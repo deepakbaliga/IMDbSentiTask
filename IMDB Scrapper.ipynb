{
 "cells": [
  {
   "cell_type": "code",
   "execution_count": 2,
   "metadata": {
    "collapsed": true
   },
   "outputs": [],
   "source": [
    "#Pandas for data management\n",
    "import pandas as pd\n",
    "from bs4 import BeautifulSoup\n",
    "import requests as req\n",
    "import sys\n",
    "import json\n",
    "import difflib"
   ]
  },
  {
   "cell_type": "code",
   "execution_count": 28,
   "metadata": {
    "collapsed": true
   },
   "outputs": [],
   "source": [
    "df = pd.read_csv('./links.csv')"
   ]
  },
  {
   "cell_type": "code",
   "execution_count": 29,
   "metadata": {},
   "outputs": [
    {
     "data": {
      "text/html": [
       "<div>\n",
       "<style>\n",
       "    .dataframe thead tr:only-child th {\n",
       "        text-align: right;\n",
       "    }\n",
       "\n",
       "    .dataframe thead th {\n",
       "        text-align: left;\n",
       "    }\n",
       "\n",
       "    .dataframe tbody tr th {\n",
       "        vertical-align: top;\n",
       "    }\n",
       "</style>\n",
       "<table border=\"1\" class=\"dataframe\">\n",
       "  <thead>\n",
       "    <tr style=\"text-align: right;\">\n",
       "      <th></th>\n",
       "      <th>movieId</th>\n",
       "      <th>imdbId</th>\n",
       "      <th>tmdbId</th>\n",
       "    </tr>\n",
       "  </thead>\n",
       "  <tbody>\n",
       "    <tr>\n",
       "      <th>0</th>\n",
       "      <td>1</td>\n",
       "      <td>114709</td>\n",
       "      <td>862.0</td>\n",
       "    </tr>\n",
       "    <tr>\n",
       "      <th>1</th>\n",
       "      <td>2</td>\n",
       "      <td>113497</td>\n",
       "      <td>8844.0</td>\n",
       "    </tr>\n",
       "    <tr>\n",
       "      <th>2</th>\n",
       "      <td>3</td>\n",
       "      <td>113228</td>\n",
       "      <td>15602.0</td>\n",
       "    </tr>\n",
       "    <tr>\n",
       "      <th>3</th>\n",
       "      <td>4</td>\n",
       "      <td>114885</td>\n",
       "      <td>31357.0</td>\n",
       "    </tr>\n",
       "    <tr>\n",
       "      <th>4</th>\n",
       "      <td>5</td>\n",
       "      <td>113041</td>\n",
       "      <td>11862.0</td>\n",
       "    </tr>\n",
       "  </tbody>\n",
       "</table>\n",
       "</div>"
      ],
      "text/plain": [
       "   movieId  imdbId   tmdbId\n",
       "0        1  114709    862.0\n",
       "1        2  113497   8844.0\n",
       "2        3  113228  15602.0\n",
       "3        4  114885  31357.0\n",
       "4        5  113041  11862.0"
      ]
     },
     "execution_count": 29,
     "metadata": {},
     "output_type": "execute_result"
    }
   ],
   "source": [
    "df.head()"
   ]
  },
  {
   "cell_type": "code",
   "execution_count": 30,
   "metadata": {},
   "outputs": [
    {
     "data": {
      "text/plain": [
       "27278"
      ]
     },
     "execution_count": 30,
     "metadata": {},
     "output_type": "execute_result"
    }
   ],
   "source": []
  },
  {
   "cell_type": "code",
   "execution_count": 31,
   "metadata": {},
   "outputs": [],
   "source": [
    "movieIDs = list(df['imdbId'])"
   ]
  },
  {
   "cell_type": "code",
   "execution_count": 32,
   "metadata": {},
   "outputs": [
    {
     "data": {
      "text/plain": [
       "27278"
      ]
     },
     "execution_count": 32,
     "metadata": {},
     "output_type": "execute_result"
    }
   ],
   "source": [
    "len(movieIDs)"
   ]
  },
  {
   "cell_type": "code",
   "execution_count": 33,
   "metadata": {},
   "outputs": [
    {
     "name": "stdout",
     "output_type": "stream",
     "text": [
      "Status ==   1.0 % complete\n",
      "Status ==   2.0 % complete\n",
      "Status ==   3.0 % complete\n"
     ]
    }
   ],
   "source": [
    "id_review = []\n",
    "counter = 1\n",
    "\n",
    "for id in movieIDs:\n",
    "    link = \"https://www.imdb.com/title/tt0\"+str(id)+\"/reviews?spoiler=hide&sort=helpfulnessScore&dir=desc&ratingFilter=0\"\n",
    "    review_page = req.get(link)\n",
    "    soup = BeautifulSoup(review_page.content, 'html.parser')\n",
    "    currentMovieID = id\n",
    "    \n",
    "    print(\"Status ==  \", str(round((counter*100)/len(movieIDs), 3)),\"% complete\" )\n",
    "\n",
    "    \n",
    "    for div in soup.findAll('div', {'class': 'text show-more__control'}):\n",
    "        id_review.append([id, div.text.strip()])\n",
    "    \n",
    "    counter = counter + 1\n",
    "    \n",
    "\n",
    "    \n",
    "    \n",
    "\n",
    "    \n",
    " \n",
    "    \n",
    "\n",
    "\n"
   ]
  },
  {
   "cell_type": "code",
   "execution_count": 34,
   "metadata": {
    "collapsed": true
   },
   "outputs": [],
   "source": [
    "filename = 'reviewsdata.csv'\n",
    "pd.DataFrame(data=id_review, columns=[\"ID\",\"Reviews\"]).to_csv(filename, index=False)"
   ]
  },
  {
   "cell_type": "code",
   "execution_count": 47,
   "metadata": {
    "collapsed": true
   },
   "outputs": [],
   "source": [
    "filename = 'reviewsdata.csv'"
   ]
  },
  {
   "cell_type": "code",
   "execution_count": 48,
   "metadata": {},
   "outputs": [
    {
     "data": {
      "text/html": [
       "<div>\n",
       "<style>\n",
       "    .dataframe thead tr:only-child th {\n",
       "        text-align: right;\n",
       "    }\n",
       "\n",
       "    .dataframe thead th {\n",
       "        text-align: left;\n",
       "    }\n",
       "\n",
       "    .dataframe tbody tr th {\n",
       "        vertical-align: top;\n",
       "    }\n",
       "</style>\n",
       "<table border=\"1\" class=\"dataframe\">\n",
       "  <thead>\n",
       "    <tr style=\"text-align: right;\">\n",
       "      <th></th>\n",
       "      <th>ID</th>\n",
       "      <th>Reviews</th>\n",
       "    </tr>\n",
       "  </thead>\n",
       "  <tbody>\n",
       "    <tr>\n",
       "      <th>0</th>\n",
       "      <td>114709</td>\n",
       "      <td>Andy's toys live a reasonable life of fun and ...</td>\n",
       "    </tr>\n",
       "    <tr>\n",
       "      <th>1</th>\n",
       "      <td>114709</td>\n",
       "      <td>I am a big fan of the animated movies coming f...</td>\n",
       "    </tr>\n",
       "    <tr>\n",
       "      <th>2</th>\n",
       "      <td>114709</td>\n",
       "      <td>This is a very clever animated story that was ...</td>\n",
       "    </tr>\n",
       "    <tr>\n",
       "      <th>3</th>\n",
       "      <td>114709</td>\n",
       "      <td>Y'know, I always suspected that my toys were c...</td>\n",
       "    </tr>\n",
       "    <tr>\n",
       "      <th>4</th>\n",
       "      <td>114709</td>\n",
       "      <td>Toy Story is the film that started Pixar Anima...</td>\n",
       "    </tr>\n",
       "  </tbody>\n",
       "</table>\n",
       "</div>"
      ],
      "text/plain": [
       "       ID                                            Reviews\n",
       "0  114709  Andy's toys live a reasonable life of fun and ...\n",
       "1  114709  I am a big fan of the animated movies coming f...\n",
       "2  114709  This is a very clever animated story that was ...\n",
       "3  114709  Y'know, I always suspected that my toys were c...\n",
       "4  114709  Toy Story is the film that started Pixar Anima..."
      ]
     },
     "execution_count": 48,
     "metadata": {},
     "output_type": "execute_result"
    }
   ],
   "source": [
    "#Reading the dataframe from CSV\n",
    "df = pd.read_csv(filename)\n",
    "df.head()"
   ]
  },
  {
   "cell_type": "code",
   "execution_count": 50,
   "metadata": {},
   "outputs": [
    {
     "name": "stdout",
     "output_type": "stream",
     "text": [
      "Completed  0.0 %\n",
      "Completed  1.3888888888888888 %\n",
      "Completed  2.7777777777777777 %\n",
      "Completed  4.166666666666667 %\n",
      "Completed  5.555555555555555 %\n",
      "Completed  6.944444444444445 %\n",
      "Completed  8.333333333333334 %\n",
      "Completed  9.722222222222221 %\n",
      "Completed  11.11111111111111 %\n",
      "Completed  12.5 %\n",
      "Completed  13.88888888888889 %\n",
      "Completed  15.277777777777779 %\n",
      "Completed  16.666666666666668 %\n",
      "Completed  18.055555555555557 %\n",
      "Completed  19.444444444444443 %\n",
      "Completed  20.833333333333332 %\n",
      "Completed  22.22222222222222 %\n",
      "Completed  23.61111111111111 %\n",
      "Completed  25.0 %\n",
      "Completed  26.38888888888889 %\n",
      "Completed  27.77777777777778 %\n",
      "Completed  29.166666666666668 %\n",
      "Completed  30.555555555555557 %\n",
      "Completed  31.944444444444443 %\n",
      "Completed  33.333333333333336 %\n",
      "Completed  34.72222222222222 %\n",
      "Completed  36.111111111111114 %\n",
      "Completed  37.5 %\n",
      "Completed  38.888888888888886 %\n",
      "Completed  40.27777777777778 %\n",
      "Completed  41.666666666666664 %\n",
      "Completed  43.05555555555556 %\n",
      "Completed  44.44444444444444 %\n",
      "Completed  45.833333333333336 %\n",
      "Completed  47.22222222222222 %\n",
      "Completed  48.611111111111114 %\n",
      "Completed  50.0 %\n",
      "Completed  51.388888888888886 %\n",
      "Completed  52.77777777777778 %\n",
      "Completed  54.166666666666664 %\n",
      "Completed  55.55555555555556 %\n",
      "Completed  56.94444444444444 %\n",
      "Completed  58.333333333333336 %\n",
      "Completed  59.72222222222222 %\n",
      "Completed  61.111111111111114 %\n",
      "Completed  62.5 %\n",
      "Completed  63.888888888888886 %\n",
      "Completed  65.27777777777777 %\n",
      "Completed  66.66666666666667 %\n",
      "Completed  68.05555555555556 %\n",
      "Completed  69.44444444444444 %\n",
      "Completed  70.83333333333333 %\n",
      "Completed  72.22222222222223 %\n",
      "Completed  73.61111111111111 %\n",
      "Completed  75.0 %\n",
      "Completed  76.38888888888889 %\n",
      "Completed  77.77777777777777 %\n",
      "Completed  79.16666666666667 %\n",
      "Completed  80.55555555555556 %\n",
      "Completed  81.94444444444444 %\n",
      "Completed  83.33333333333333 %\n",
      "Completed  84.72222222222223 %\n",
      "Completed  86.11111111111111 %\n",
      "Completed  87.5 %\n",
      "Completed  88.88888888888889 %\n",
      "Completed  90.27777777777777 %\n",
      "Completed  91.66666666666667 %\n",
      "Completed  93.05555555555556 %\n",
      "Completed  94.44444444444444 %\n",
      "Completed  95.83333333333333 %\n",
      "Completed  97.22222222222223 %\n",
      "Completed  98.61111111111111 %\n"
     ]
    }
   ],
   "source": [
    "polarities = []\n",
    "counter = 0\n",
    "for index, row in df.iterrows():\n",
    "    darray = []\n",
    "    data = {}\n",
    "    data['text'] = row['Reviews']\n",
    "    darray.append(data)\n",
    "\n",
    "    d = {}\n",
    "    d['data'] = darray\n",
    "    json_data = json.dumps(d)\n",
    "    \n",
    "    print(\"Completed \", str(counter*100/len(df)),\"%\")\n",
    "    r=req.post(\"http://www.sentiment140.com/api/bulkClassifyJson?appid=karishmack14@gmail.com\", data=json_data)\n",
    "    \n",
    "    if r.status_code != 200:\n",
    "        print(\"Exception Occurred as web server has stopped accepting your request\")\n",
    "        break\n",
    "    \n",
    "    polarities.append(json.loads(r.text)['data'][0]['polarity'])\n",
    "    counter = counter + 1\n",
    "print(\"Completed\")"
   ]
  },
  {
   "cell_type": "code",
   "execution_count": 51,
   "metadata": {},
   "outputs": [],
   "source": [
    "df['polarity'] = polarities"
   ]
  },
  {
   "cell_type": "code",
   "execution_count": 52,
   "metadata": {},
   "outputs": [
    {
     "data": {
      "text/html": [
       "<div>\n",
       "<style>\n",
       "    .dataframe thead tr:only-child th {\n",
       "        text-align: right;\n",
       "    }\n",
       "\n",
       "    .dataframe thead th {\n",
       "        text-align: left;\n",
       "    }\n",
       "\n",
       "    .dataframe tbody tr th {\n",
       "        vertical-align: top;\n",
       "    }\n",
       "</style>\n",
       "<table border=\"1\" class=\"dataframe\">\n",
       "  <thead>\n",
       "    <tr style=\"text-align: right;\">\n",
       "      <th></th>\n",
       "      <th>ID</th>\n",
       "      <th>Reviews</th>\n",
       "      <th>polarity</th>\n",
       "    </tr>\n",
       "  </thead>\n",
       "  <tbody>\n",
       "    <tr>\n",
       "      <th>0</th>\n",
       "      <td>114709</td>\n",
       "      <td>Andy's toys live a reasonable life of fun and ...</td>\n",
       "      <td>4</td>\n",
       "    </tr>\n",
       "    <tr>\n",
       "      <th>1</th>\n",
       "      <td>114709</td>\n",
       "      <td>I am a big fan of the animated movies coming f...</td>\n",
       "      <td>4</td>\n",
       "    </tr>\n",
       "    <tr>\n",
       "      <th>2</th>\n",
       "      <td>114709</td>\n",
       "      <td>This is a very clever animated story that was ...</td>\n",
       "      <td>4</td>\n",
       "    </tr>\n",
       "    <tr>\n",
       "      <th>3</th>\n",
       "      <td>114709</td>\n",
       "      <td>Y'know, I always suspected that my toys were c...</td>\n",
       "      <td>4</td>\n",
       "    </tr>\n",
       "    <tr>\n",
       "      <th>4</th>\n",
       "      <td>114709</td>\n",
       "      <td>Toy Story is the film that started Pixar Anima...</td>\n",
       "      <td>4</td>\n",
       "    </tr>\n",
       "  </tbody>\n",
       "</table>\n",
       "</div>"
      ],
      "text/plain": [
       "       ID                                            Reviews  polarity\n",
       "0  114709  Andy's toys live a reasonable life of fun and ...         4\n",
       "1  114709  I am a big fan of the animated movies coming f...         4\n",
       "2  114709  This is a very clever animated story that was ...         4\n",
       "3  114709  Y'know, I always suspected that my toys were c...         4\n",
       "4  114709  Toy Story is the film that started Pixar Anima...         4"
      ]
     },
     "execution_count": 52,
     "metadata": {},
     "output_type": "execute_result"
    }
   ],
   "source": [
    "df.head()"
   ]
  },
  {
   "cell_type": "code",
   "execution_count": null,
   "metadata": {
    "collapsed": true
   },
   "outputs": [],
   "source": []
  }
 ],
 "metadata": {
  "kernelspec": {
   "display_name": "Python 3",
   "language": "python",
   "name": "python3"
  },
  "language_info": {
   "codemirror_mode": {
    "name": "ipython",
    "version": 3
   },
   "file_extension": ".py",
   "mimetype": "text/x-python",
   "name": "python",
   "nbconvert_exporter": "python",
   "pygments_lexer": "ipython3",
   "version": "3.5.4"
  }
 },
 "nbformat": 4,
 "nbformat_minor": 2
}
